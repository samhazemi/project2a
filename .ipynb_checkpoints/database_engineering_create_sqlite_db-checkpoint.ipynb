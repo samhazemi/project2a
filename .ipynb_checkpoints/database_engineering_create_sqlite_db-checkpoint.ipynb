{
 "cells": [
  {
   "cell_type": "code",
   "execution_count": null,
   "metadata": {
    "collapsed": true
   },
   "outputs": [],
   "source": [
    "# Dependencies\n",
    "from numpy import genfromtxt\n",
    "from time import time\n",
    "from datetime import datetime\n",
    "from sqlalchemy import Column, Integer, Float, Date, String, ForeignKey\n",
    "from sqlalchemy.ext.declarative import declarative_base\n",
    "from sqlalchemy import create_engine\n",
    "from sqlalchemy.orm import sessionmaker\n",
    "from sqlalchemy.orm import Session\n",
    "from sqlalchemy import Index\n",
    "from sqlalchemy import MetaData\n",
    "from sqlalchemy import Table\n",
    "import csv\n",
    "import pandas as pd\n",
    "from sqlalchemy.ext.automap import automap_base\n",
    "from sqlalchemy import create_engine, inspect\n",
    "from sqlalchemy import func"
   ]
  },
  {
   "cell_type": "code",
   "execution_count": null,
   "metadata": {},
   "outputs": [],
   "source": [
    "clean_listings = \"clean_listing_data.csv\"\n",
    "clean_listings_df = pd.read_csv(clean_listings, encoding=\"utf-8\", low_memory=False )\n",
    "clean_listings_df[\"name\"] = clean_listings_df[\"name\"].astype(str)\n",
    "clean_listings_df[\"neighbourhood\"] = clean_listings_df[\"neighbourhood\"].astype(str)\n",
    "clean_listings_df.head()"
   ]
  },
  {
   "cell_type": "code",
   "execution_count": 3,
   "metadata": {},
   "outputs": [
    {
     "data": {
      "text/plain": [
       "airbnb_id                           int64\n",
       "name                               object\n",
       "host_id                             int64\n",
       "host_name                          object\n",
       "neighbourhood                      object\n",
       "latitude                          float64\n",
       "longitude                         float64\n",
       "room_type                          object\n",
       "price                               int64\n",
       "minimum_nights                      int64\n",
       "number_of_reviews                   int64\n",
       "reviews_per_month                 float64\n",
       "calculated_host_listings_count      int64\n",
       "availability_365                    int64\n",
       "dtype: object"
      ]
     },
     "execution_count": 3,
     "metadata": {},
     "output_type": "execute_result"
    }
   ],
   "source": [
    "clean_listings_df.dtypes"
   ]
  },
  {
   "cell_type": "code",
   "execution_count": 4,
   "metadata": {},
   "outputs": [
    {
     "data": {
      "text/html": [
       "<div>\n",
       "<style scoped>\n",
       "    .dataframe tbody tr th:only-of-type {\n",
       "        vertical-align: middle;\n",
       "    }\n",
       "\n",
       "    .dataframe tbody tr th {\n",
       "        vertical-align: top;\n",
       "    }\n",
       "\n",
       "    .dataframe thead th {\n",
       "        text-align: right;\n",
       "    }\n",
       "</style>\n",
       "<table border=\"1\" class=\"dataframe\">\n",
       "  <thead>\n",
       "    <tr style=\"text-align: right;\">\n",
       "      <th></th>\n",
       "      <th>neighbourhood</th>\n",
       "      <th>CommunityArea</th>\n",
       "      <th>number_of_crimes</th>\n",
       "      <th>crime_rate</th>\n",
       "    </tr>\n",
       "  </thead>\n",
       "  <tbody>\n",
       "    <tr>\n",
       "      <th>0</th>\n",
       "      <td>Rogers Park</td>\n",
       "      <td>1</td>\n",
       "      <td>14867</td>\n",
       "      <td>1.503473</td>\n",
       "    </tr>\n",
       "    <tr>\n",
       "      <th>1</th>\n",
       "      <td>West Ridge</td>\n",
       "      <td>2</td>\n",
       "      <td>12483</td>\n",
       "      <td>1.262383</td>\n",
       "    </tr>\n",
       "    <tr>\n",
       "      <th>2</th>\n",
       "      <td>Uptown</td>\n",
       "      <td>3</td>\n",
       "      <td>13954</td>\n",
       "      <td>1.411143</td>\n",
       "    </tr>\n",
       "    <tr>\n",
       "      <th>3</th>\n",
       "      <td>Lincoln Square</td>\n",
       "      <td>4</td>\n",
       "      <td>7187</td>\n",
       "      <td>0.726808</td>\n",
       "    </tr>\n",
       "    <tr>\n",
       "      <th>4</th>\n",
       "      <td>North Center</td>\n",
       "      <td>5</td>\n",
       "      <td>5548</td>\n",
       "      <td>0.561059</td>\n",
       "    </tr>\n",
       "  </tbody>\n",
       "</table>\n",
       "</div>"
      ],
      "text/plain": [
       "    neighbourhood  CommunityArea  number_of_crimes  crime_rate\n",
       "0     Rogers Park              1             14867    1.503473\n",
       "1      West Ridge              2             12483    1.262383\n",
       "2          Uptown              3             13954    1.411143\n",
       "3  Lincoln Square              4              7187    0.726808\n",
       "4    North Center              5              5548    0.561059"
      ]
     },
     "execution_count": 4,
     "metadata": {},
     "output_type": "execute_result"
    }
   ],
   "source": [
    "clean_crime = \"clean_crime_data.csv\"\n",
    "clean_crime_df = pd.read_csv(clean_crime, encoding=\"utf-8\", low_memory=False)\n",
    "\n",
    "clean_crime_df.head()"
   ]
  },
  {
   "cell_type": "code",
   "execution_count": 5,
   "metadata": {},
   "outputs": [
    {
     "data": {
      "text/plain": [
       "neighbourhood        object\n",
       "CommunityArea         int64\n",
       "number_of_crimes      int64\n",
       "crime_rate          float64\n",
       "dtype: object"
      ]
     },
     "execution_count": 5,
     "metadata": {},
     "output_type": "execute_result"
    }
   ],
   "source": [
    "clean_crime_df.dtypes\n"
   ]
  },
  {
   "cell_type": "code",
   "execution_count": 6,
   "metadata": {
    "collapsed": true
   },
   "outputs": [],
   "source": [
    "Base = declarative_base()\n",
    "class Listings(Base):\n",
    "    __tablename__ = 'listings_table'\n",
    "    id = Column(Integer, primary_key=True, nullable=False)\n",
    "    airbnb_id = Column(Integer)  \n",
    "    name = Column(String(255))\n",
    "    host_id = Column(Integer)                         \n",
    "    host_name = Column(String(255))                        \n",
    "    neighbourhood = Column(String(255))                  \n",
    "    latitude = Column(Float)         \n",
    "    longitude = Column(Float)                         \n",
    "    room_type = Column(String(255))                        \n",
    "    price = Column(Integer)                             \n",
    "    minimum_nights  = Column(Integer)                    \n",
    "    number_of_reviews  = Column(Integer)                   \n",
    "    reviews_per_month = Column(Float)               \n",
    "    calculated_host_listings_count = Column(Integer)     \n",
    "    availability_365 = Column(Integer)                 \n",
    "   \n",
    "\n",
    "engine = create_engine(\"sqlite:///chicagobnbnew.db\")\n",
    "Base.metadata.create_all(engine)\n",
    "\n",
    "#Create the session\n",
    "session = Session(bind=engine)"
   ]
  },
  {
   "cell_type": "code",
   "execution_count": 7,
   "metadata": {
    "collapsed": true
   },
   "outputs": [],
   "source": [
    "for i, row in clean_listings_df.iterrows():\n",
    "    \n",
    "    record = Listings(**{\n",
    "        'airbnb_id' : row.airbnb_id,\n",
    "        'name' : row.name,\n",
    "        'host_id' : row.host_id,                       \n",
    "        'host_name': row.host_name,                       \n",
    "        'neighbourhood' : row.neighbourhood,                \n",
    "        'latitude' : row.latitude,                       \n",
    "        'longitude' : row.longitude,                         \n",
    "        'room_type' : row.room_type,                       \n",
    "        'price' : row.price,                              \n",
    "        'minimum_nights' : row.minimum_nights,                    \n",
    "        'number_of_reviews' : row.number_of_reviews,                   \n",
    "        'reviews_per_month': row.reviews_per_month,                \n",
    "        'calculated_host_listings_count' : row.calculated_host_listings_count,     \n",
    "        'availability_365':row.availability_365 \n",
    "})\n",
    "\n",
    "    session.add(record)\n",
    "session.commit()"
   ]
  },
  {
   "cell_type": "code",
   "execution_count": 8,
   "metadata": {},
   "outputs": [
    {
     "data": {
      "text/plain": [
       "airbnb_id                                                                 18548813\n",
       "name                              Downtown & Lake Michigan Facing High Rise 2B,2BA\n",
       "host_id                                                                   28464521\n",
       "host_name                                                                Stephanie\n",
       "neighbourhood                                                          Rogers Park\n",
       "latitude                                                                   42.0198\n",
       "longitude                                                                 -87.6742\n",
       "room_type                                                          Entire home,apt\n",
       "price                                                                          200\n",
       "minimum_nights                                                                   1\n",
       "number_of_reviews                                                                0\n",
       "reviews_per_month                                                                0\n",
       "calculated_host_listings_count                                                   1\n",
       "availability_365                                                                54\n",
       "Name: 5205, dtype: object"
      ]
     },
     "execution_count": 8,
     "metadata": {},
     "output_type": "execute_result"
    }
   ],
   "source": [
    "row"
   ]
  },
  {
   "cell_type": "code",
   "execution_count": 9,
   "metadata": {
    "collapsed": true
   },
   "outputs": [],
   "source": [
    "\n",
    "Base = declarative_base()\n",
    "class Crime(Base):\n",
    "    __tablename__ = 'crime_table'\n",
    "\n",
    "    id = Column(Integer, primary_key=True, nullable=False)\n",
    "    neighbourhood  = Column(String(255))\n",
    "  #  CommunityArea = Column(String(225))\n",
    "    CommunityArea = Column(Integer)\n",
    "    number_of_crimes = Column(Integer)\n",
    "    crime_rate =  Column(Float)\n",
    "\n",
    "\n",
    "engine = create_engine(\"sqlite:///chicagobnbnew.db\")\n",
    "Base.metadata.create_all(engine)\n",
    "\n",
    "\n",
    "session = Session(bind=engine)"
   ]
  },
  {
   "cell_type": "code",
   "execution_count": 10,
   "metadata": {},
   "outputs": [
    {
     "data": {
      "text/plain": [
       "['CommunityArea',\n",
       " '__class__',\n",
       " '__delattr__',\n",
       " '__dict__',\n",
       " '__dir__',\n",
       " '__doc__',\n",
       " '__eq__',\n",
       " '__format__',\n",
       " '__ge__',\n",
       " '__getattribute__',\n",
       " '__gt__',\n",
       " '__hash__',\n",
       " '__init__',\n",
       " '__init_subclass__',\n",
       " '__le__',\n",
       " '__lt__',\n",
       " '__mapper__',\n",
       " '__module__',\n",
       " '__ne__',\n",
       " '__new__',\n",
       " '__reduce__',\n",
       " '__reduce_ex__',\n",
       " '__repr__',\n",
       " '__setattr__',\n",
       " '__sizeof__',\n",
       " '__str__',\n",
       " '__subclasshook__',\n",
       " '__table__',\n",
       " '__tablename__',\n",
       " '__weakref__',\n",
       " '_decl_class_registry',\n",
       " '_sa_class_manager',\n",
       " 'crime_rate',\n",
       " 'id',\n",
       " 'metadata',\n",
       " 'neighbourhood',\n",
       " 'number_of_crimes']"
      ]
     },
     "execution_count": 10,
     "metadata": {},
     "output_type": "execute_result"
    }
   ],
   "source": [
    "dir(Crime)"
   ]
  },
  {
   "cell_type": "code",
   "execution_count": 11,
   "metadata": {},
   "outputs": [],
   "source": [
    "for i, row in clean_crime_df.iterrows():\n",
    "    record = Crime(**{\n",
    "        'neighbourhood': row.neighbourhood,\n",
    "        'CommunityArea' : row.CommunityArea,\n",
    "        'number_of_crimes': row.number_of_crimes,\n",
    "        'crime_rate': row.crime_rate\n",
    "        \n",
    "         \n",
    "})\n",
    "\n",
    "    session.add(record)\n",
    "session.commit()"
   ]
  },
  {
   "cell_type": "code",
   "execution_count": 12,
   "metadata": {},
   "outputs": [
    {
     "data": {
      "text/plain": [
       "neighbourhood       Edgewater\n",
       "CommunityArea              77\n",
       "number_of_crimes         9472\n",
       "crime_rate           0.957886\n",
       "Name: 76, dtype: object"
      ]
     },
     "execution_count": 12,
     "metadata": {},
     "output_type": "execute_result"
    }
   ],
   "source": [
    "row"
   ]
  },
  {
   "cell_type": "code",
   "execution_count": null,
   "metadata": {
    "collapsed": true
   },
   "outputs": [],
   "source": [
    "Base = declarative_base()"
   ]
  },
  {
   "cell_type": "code",
   "execution_count": 13,
   "metadata": {},
   "outputs": [
    {
     "data": {
      "text/plain": [
       "['crime_table', 'listings_table']"
      ]
     },
     "execution_count": 13,
     "metadata": {},
     "output_type": "execute_result"
    }
   ],
   "source": [
    "engine = create_engine(\"sqlite:///chicagobnbnew.db\")\n",
    "Base = automap_base()\n",
    "Base.prepare(engine, reflect=True)\n",
    "Base.classes.keys()"
   ]
  },
  {
   "cell_type": "code",
   "execution_count": 14,
   "metadata": {
    "collapsed": true
   },
   "outputs": [],
   "source": [
    "from sqlalchemy import create_engine, MetaData, Table\n",
    "from sqlalchemy.engine.reflection import Inspector\n",
    "\n",
    "meta = MetaData()\n",
    "user_table = Table('listings_table', meta)\n",
    "insp = Inspector.from_engine(engine)\n",
    "insp.reflecttable(user_table, None)"
   ]
  },
  {
   "cell_type": "code",
   "execution_count": 15,
   "metadata": {},
   "outputs": [
    {
     "data": {
      "text/plain": [
       "sqlalchemy.ext.automap.listings_table"
      ]
     },
     "execution_count": 15,
     "metadata": {},
     "output_type": "execute_result"
    }
   ],
   "source": [
    "Listings=Base.classes.listings_table\n",
    "Listings"
   ]
  },
  {
   "cell_type": "code",
   "execution_count": 16,
   "metadata": {},
   "outputs": [
    {
     "data": {
      "text/plain": [
       "sqlalchemy.ext.automap.crime_table"
      ]
     },
     "execution_count": 16,
     "metadata": {},
     "output_type": "execute_result"
    }
   ],
   "source": [
    "Crime=Base.classes.crime_table\n",
    "Crime"
   ]
  },
  {
   "cell_type": "code",
   "execution_count": 17,
   "metadata": {},
   "outputs": [
    {
     "data": {
      "text/plain": [
       "['crime_table', 'listings_table']"
      ]
     },
     "execution_count": 17,
     "metadata": {},
     "output_type": "execute_result"
    }
   ],
   "source": [
    "inspector = inspect(engine)\n",
    "inspector.get_table_names()"
   ]
  },
  {
   "cell_type": "code",
   "execution_count": 19,
   "metadata": {},
   "outputs": [
    {
     "name": "stdout",
     "output_type": "stream",
     "text": [
      "id INTEGER\n",
      "airbnb_id INTEGER\n",
      "name VARCHAR(255)\n",
      "host_id INTEGER\n",
      "host_name VARCHAR(255)\n",
      "neighbourhood VARCHAR(255)\n",
      "latitude FLOAT\n",
      "longitude FLOAT\n",
      "room_type VARCHAR(255)\n",
      "price INTEGER\n",
      "minimum_nights INTEGER\n",
      "number_of_reviews INTEGER\n",
      "reviews_per_month FLOAT\n",
      "calculated_host_listings_count INTEGER\n",
      "availability_365 INTEGER\n"
     ]
    }
   ],
   "source": [
    "columns = inspector.get_columns('listings_table')\n",
    "for c in columns:\n",
    "    print(c['name'], c[\"type\"])"
   ]
  },
  {
   "cell_type": "code",
   "execution_count": 20,
   "metadata": {},
   "outputs": [
    {
     "name": "stdout",
     "output_type": "stream",
     "text": [
      "Mapper|listings_table|listings_table\n"
     ]
    }
   ],
   "source": [
    "from sqlalchemy import inspect\n",
    "\n",
    "mapper = inspect(Listings)\n",
    "print(mapper)"
   ]
  },
  {
   "cell_type": "code",
   "execution_count": 21,
   "metadata": {},
   "outputs": [
    {
     "name": "stdout",
     "output_type": "stream",
     "text": [
      "Mapper|crime_table|crime_table\n"
     ]
    }
   ],
   "source": [
    "from sqlalchemy import inspect\n",
    "\n",
    "mapper = inspect(Crime)\n",
    "print(mapper)"
   ]
  },
  {
   "cell_type": "code",
   "execution_count": 22,
   "metadata": {
    "collapsed": true
   },
   "outputs": [],
   "source": [
    "Session = sessionmaker(bind=engine)\n",
    "\n",
    "session = Session()\n"
   ]
  },
  {
   "cell_type": "code",
   "execution_count": 23,
   "metadata": {},
   "outputs": [
    {
     "data": {
      "text/plain": [
       "[(1, 13824783, '0', 55020055, 'Russ', 'Lincoln Square', 41.97654639192563, -87.68493430737107, 'Private room', 56, 2, 25, 2.57, 1, 32),\n",
       " (2, 16740225, '1', 36722941, 'Dan', 'Lincoln Square', 41.976521618876994, -87.68875498836796, 'Private room', 36, 1, 0, 0.0, 3, 0),\n",
       " (3, 18125245, '2', 51669215, 'Tyler', 'Lincoln Square', 41.97214501590578, -87.69912520197866, 'Private room', 80, 1, 4, 4.0, 1, 158),\n",
       " (4, 8362570, '3', 32837114, 'Howard', 'Lincoln Square', 41.97100700324269, -87.68812949988241, 'Private room', 80, 2, 12, 0.87, 1, 52),\n",
       " (5, 789867, '4', 2782694, 'Cameron', 'Lincoln Square', 41.964131797914064, -87.67595080694412, 'Private room', 20, 3, 96, 1.96, 1, 115)]"
      ]
     },
     "execution_count": 23,
     "metadata": {},
     "output_type": "execute_result"
    }
   ],
   "source": [
    "engine.execute('SELECT * FROM listings_table LIMIT 5').fetchall()"
   ]
  },
  {
   "cell_type": "code",
   "execution_count": 24,
   "metadata": {},
   "outputs": [
    {
     "data": {
      "text/plain": [
       "[(1, 'Rogers Park', 1, 14867, 1.5034727419087341),\n",
       " (2, 'West Ridge', 2, 12483, 1.2623831463810269),\n",
       " (3, 'Uptown', 3, 13954, 1.4111427080510168),\n",
       " (4, 'Lincoln Square', 4, 7187, 0.7268082730946438),\n",
       " (5, 'North Center', 5, 5548, 0.5610591761693452),\n",
       " (6, 'Lake View', 6, 21016, 2.1253099578902237),\n",
       " (7, 'Lincoln Park', 7, 16100, 1.6281637953003707),\n",
       " (8, 'Near North Side', 8, 39079, 3.9519883823939868),\n",
       " (9, 'Edison Park', 9, 1040, 0.10517331348524137),\n",
       " (10, 'Norwood Park', 10, 4541, 0.4592230928235394),\n",
       " (11, 'Jefferson Park', 11, 4098, 0.4144233064062683),\n",
       " (12, 'Forest Glen', 12, 1924, 0.1945706299476965),\n",
       " (13, 'North Park', 13, 3530, 0.3569824967335596),\n",
       " (14, 'Albany Park', 14, 9296, 0.9400876174603879),\n",
       " (15, 'Portage Park', 15, 12951, 1.3097111374493855),\n",
       " (16, 'Irving Park', 16, 11443, 1.1572098328957854),\n",
       " (17, 'Dunning', 17, 6233, 0.6303319836091437),\n",
       " (18, 'Montclare', 18, 2391, 0.2417974928300116),\n",
       " (19, 'Belmont Cragin', 19, 18267, 1.8473085744566384),\n",
       " (20, 'Hermosa', 20, 6096, 0.616477422121184),\n",
       " (21, 'Avondale', 21, 9165, 0.9268398250886892),\n",
       " (22, 'Logan Square', 22, 20562, 2.0793977614264736),\n",
       " (23, 'Humboldt Park', 23, 31173, 3.1524689435340663),\n",
       " (24, 'West Town', 24, 30517, 3.0861288534895293),\n",
       " (25, 'Austin', 25, 62631, 6.33375942009053),\n",
       " (26, 'West Garfield Park', 26, 20106, 2.033283308590637),\n",
       " (27, 'East Garfield Park', 27, 19168, 1.9384250700818328),\n",
       " (28, 'Near West Side', 28, 33017, 3.3389493185982824),\n",
       " (29, 'North Lawndale', 29, 31921, 3.2281128266946046),\n",
       " (30, 'South Lawndale', 30, 17255, 1.7449668501806148),\n",
       " (31, 'Lower West Side', 31, 9895, 1.0006634009004454),\n",
       " (32, 'Loop', 32, 31882, 3.2241688274389086),\n",
       " (33, 'Near South Side', 33, 7372, 0.7455169875126916),\n",
       " (34, 'Armour Square', 34, 3758, 0.3800397231514779),\n",
       " (35, 'Douglas', 35, 10741, 1.0862178462932477),\n",
       " (36, 'Oakland', 36, 2442, 0.24695503031823016),\n",
       " (37, 'Fuller Park', 37, 3533, 0.3572858812916901),\n",
       " (38, 'Grand Boulevard', 38, 13970, 1.4127607590277131),\n",
       " (39, 'Kenwood', 39, 5619, 0.5682392773784338),\n",
       " (40, 'Washington Park', 40, 10784, 1.090566358293118),\n",
       " (41, 'Hyde Park', 41, 6457, 0.6529846972828879),\n",
       " (42, 'Woodlawn', 42, 14868, 1.5035738700947774),\n",
       " (43, 'South Shore', 43, 32221, 3.258451282507655),\n",
       " (44, 'Chatham', 44, 21414, 2.1655589759355367),\n",
       " (45, 'Avalon Park', 45, 4659, 0.4711562187766726),\n",
       " (46, 'South Chicago', 46, 16838, 1.7027963966004749),\n",
       " (47, 'Burnside', 47, 1311, 0.1325790519030302),\n",
       " (48, 'Calumet Heights', 48, 4742, 0.4795498582182832),\n",
       " (49, 'Roseland', 49, 9785, 0.9895393004356604),\n",
       " (50, 'Pullman', 50, 4284, 0.4332331490103596),\n",
       " (51, 'South Deering', 51, 6732, 0.6807949484448507),\n",
       " (52, 'East Side', 52, 1174, 0.11872449041507055),\n",
       " (53, 'West Pullman', 53, 15371, 1.5544413476746586),\n",
       " (54, 'Riverdale', 54, 4869, 0.4923931378458079),\n",
       " (55, 'Hegewisch', 55, 2174, 0.21985267645857184),\n",
       " (56, 'Garfield Ridge', 56, 8051, 0.8141830258362289),\n",
       " (57, 'Archer Heights', 57, 3391, 0.3429256788735129),\n",
       " (58, 'Brighton Park', 58, 9675, 0.9784151999708752),\n",
       " (59, 'McKinley Park', 59, 4078, 0.4124007426853984),\n",
       " (60, 'Bridgeport', 60, 6246, 0.6316466500277091),\n",
       " (61, 'New City', 61, 19229, 1.9445938894304864),\n",
       " (62, 'West Elsdon', 62, 3924, 0.3968270020346991),\n",
       " (63, 'Gage Park', 63, 8943, 0.9043893677870322),\n",
       " (64, 'Clearing', 64, 3787, 0.3829724405467394),\n",
       " (65, 'West Lawn', 65, 7637, 0.7723159568142194),\n",
       " (66, 'Chicago Lawn', 66, 23154, 2.341522019651229),\n",
       " (67, 'West Englewood', 67, 27728, 2.8040823426142043),\n",
       " (68, 'Englewood', 68, 25204, 2.5488348010404067),\n",
       " (69, 'Greater Grand Crossing', 69, 24147, 2.441942308392426),\n",
       " (70, 'Ashburn', 70, 9197, 0.9300759270420814),\n",
       " (71, 'Auburn Gresham', 71, 28756, 2.908042117866924),\n",
       " (72, 'Beverly', 72, 3701, 0.3742754165469983),\n",
       " (73, 'Washington Heights', 73, 11993, 1.2128303352197112),\n",
       " (74, 'Mount Greenwood', 74, 2282, 0.23077452055127),\n",
       " (75, 'Morgan Park', 75, 7923, 0.8012386180226607),\n",
       " (76, \"O'Hare\", 76, 5872, 0.5938247084474396),\n",
       " (77, 'Edgewater', 77, 9472, 0.9578861782040444)]"
      ]
     },
     "execution_count": 24,
     "metadata": {},
     "output_type": "execute_result"
    }
   ],
   "source": [
    "engine.execute('SELECT * FROM crime_table').fetchall()"
   ]
  },
  {
   "cell_type": "code",
   "execution_count": 25,
   "metadata": {},
   "outputs": [
    {
     "name": "stdout",
     "output_type": "stream",
     "text": [
      "1\n",
      "2\n"
     ]
    }
   ],
   "source": [
    "for instance in session.query(Listings)[1:3]:\n",
    "    print(instance.name)"
   ]
  },
  {
   "cell_type": "code",
   "execution_count": 26,
   "metadata": {},
   "outputs": [
    {
     "data": {
      "text/plain": [
       "2"
      ]
     },
     "execution_count": 26,
     "metadata": {},
     "output_type": "execute_result"
    }
   ],
   "source": [
    "import struct\n",
    "value = struct.unpack('<q', b'\\x02\\x00\\x00\\x00\\x00\\x00\\x00\\x00')\n",
    "value\n",
    "\n",
    "value[0]\n"
   ]
  },
  {
   "cell_type": "code",
   "execution_count": null,
   "metadata": {
    "collapsed": true
   },
   "outputs": [],
   "source": []
  },
  {
   "cell_type": "code",
   "execution_count": null,
   "metadata": {
    "collapsed": true
   },
   "outputs": [],
   "source": []
  }
 ],
 "metadata": {
  "kernelspec": {
   "display_name": "Python 3",
   "language": "python",
   "name": "python3"
  },
  "language_info": {
   "codemirror_mode": {
    "name": "ipython",
    "version": 3
   },
   "file_extension": ".py",
   "mimetype": "text/x-python",
   "name": "python",
   "nbconvert_exporter": "python",
   "pygments_lexer": "ipython3",
   "version": "3.6.3"
  }
 },
 "nbformat": 4,
 "nbformat_minor": 2
}
